{
  "nbformat": 4,
  "nbformat_minor": 0,
  "metadata": {
    "colab": {
      "provenance": [],
      "authorship_tag": "ABX9TyOxIiah8O/AOpvLawnAD85a",
      "include_colab_link": true
    },
    "kernelspec": {
      "name": "python3",
      "display_name": "Python 3"
    },
    "language_info": {
      "name": "python"
    }
  },
  "cells": [
    {
      "cell_type": "markdown",
      "metadata": {
        "id": "view-in-github",
        "colab_type": "text"
      },
      "source": [
        "<a href=\"https://colab.research.google.com/github/kbro4/Reliever-Value/blob/main/Getting_Bullpen_Spending_2016_2019.ipynb\" target=\"_parent\"><img src=\"https://colab.research.google.com/assets/colab-badge.svg\" alt=\"Open In Colab\"/></a>"
      ]
    },
    {
      "cell_type": "code",
      "execution_count": null,
      "metadata": {
        "id": "SOXwPLB6oc_M"
      },
      "outputs": [],
      "source": [
        "import pandas as pd\n",
        "import time"
      ]
    },
    {
      "cell_type": "code",
      "source": [
        "import warnings\n",
        "\n",
        "# Suppress all warnings\n",
        "warnings.filterwarnings(\"ignore\")"
      ],
      "metadata": {
        "id": "TaNyxTqnoe1o"
      },
      "execution_count": null,
      "outputs": []
    },
    {
      "cell_type": "code",
      "source": [
        "def convert_amount(value):\n",
        "    numeric_string = ''.join(c for c in value if c.isdigit())\n",
        "    return int(numeric_string)"
      ],
      "metadata": {
        "id": "8BBIRu21olof"
      },
      "execution_count": null,
      "outputs": []
    },
    {
      "cell_type": "code",
      "source": [
        "def get_spending(df):\n",
        "  df = df[1]\n",
        "  df = df.drop('Current Status', axis = 1).dropna()\n",
        "  df['Salary'] = df['Salary'].apply(convert_amount)\n",
        "  return df['Salary'].sum()"
      ],
      "metadata": {
        "id": "EBVnIUNnozbY"
      },
      "execution_count": null,
      "outputs": []
    },
    {
      "cell_type": "code",
      "source": [
        "mlb_teams = [\n",
        "    'ARI', 'ATL', 'BAL', 'BOS', 'CHN', 'CHA', 'CIN', 'CLE', 'COL', 'DET',\n",
        "    'HOU', 'KCA', 'ANA', 'LAN', 'MIA', 'MIL', 'MIN', 'NYN', 'NYA', 'OAK',\n",
        "    'PHI', 'PIT', 'SDN', 'SFN', 'SEA', 'SLN', 'TBA', 'TEX', 'TOR', 'WAS'\n",
        "]"
      ],
      "metadata": {
        "id": "hdVeuCvSo1A3"
      },
      "execution_count": null,
      "outputs": []
    },
    {
      "cell_type": "code",
      "source": [
        "# Gets every team's bullpen spending from 2016-2019\n",
        "for team in mlb_teams:\n",
        "  print(team)\n",
        "  for year in range(2016, 2020):\n",
        "    url = f'https://legacy.baseballprospectus.com/compensation/index.php?cyear={year}&team={team}&pos=SP'\n",
        "\n",
        "    df = pd.read_html(url)\n",
        "\n",
        "    print(get_spending(df))\n",
        "  print(\"\")"
      ],
      "metadata": {
        "colab": {
          "base_uri": "https://localhost:8080/"
        },
        "id": "ThSz5xgFognX",
        "outputId": "a86ec462-5edf-4a58-de92-7724f77b3f6f"
      },
      "execution_count": null,
      "outputs": [
        {
          "output_type": "stream",
          "name": "stdout",
          "text": [
            "ARI\n",
            "43746000\n",
            "45470400\n",
            "55754200\n",
            "48765700\n",
            "\n",
            "ATL\n",
            "7492917\n",
            "39010667\n",
            "17921667\n",
            "40686666\n",
            "\n",
            "BAL\n",
            "31579000\n",
            "37390000\n",
            "30740000\n",
            "28794000\n",
            "\n",
            "BOS\n",
            "66760500\n",
            "67753000\n",
            "75048000\n",
            "89000000\n",
            "\n",
            "CHN\n",
            "61241000\n",
            "61468500\n",
            "78636250\n",
            "85405000\n",
            "\n",
            "CHA\n",
            "33818000\n",
            "30035000\n",
            "18712000\n",
            "15649667\n",
            "\n",
            "CIN\n",
            "22579100\n",
            "24594000\n",
            "25175000\n",
            "30402500\n",
            "\n",
            "CLE\n",
            "14195100\n",
            "23650000\n",
            "28783500\n",
            "45601800\n",
            "\n",
            "COL\n",
            "15031500\n",
            "7632000\n",
            "4760000\n",
            "7975000\n",
            "\n",
            "DET\n",
            "71314500\n",
            "64441600\n",
            "35698600\n",
            "37681100\n",
            "\n",
            "HOU\n",
            "15819800\n",
            "25619000\n",
            "49400000\n",
            "47476600\n",
            "\n",
            "KCA\n",
            "42675000\n",
            "32071000\n",
            "40645875\n",
            "16968625\n",
            "\n",
            "ANA\n",
            "32670000\n",
            "25573000\n",
            "16000000\n",
            "27667500\n",
            "\n",
            "LAN\n",
            "87541429\n",
            "74036430\n",
            "69751429\n",
            "71856667\n",
            "\n",
            "MIA\n",
            "19862500\n",
            "35434600\n",
            "16105000\n",
            "5436500\n",
            "\n",
            "MIL\n",
            "16861000\n",
            "22114400\n",
            "14628500\n",
            "20111400\n",
            "\n",
            "MIN\n",
            "39787500\n",
            "38135000\n",
            "49770000\n",
            "29745000\n",
            "\n",
            "NYN\n",
            "13748000\n",
            "12769400\n",
            "22577000\n",
            "32100000\n",
            "\n",
            "NYA\n",
            "62545450\n",
            "54950975\n",
            "39685425\n",
            "60652500\n",
            "\n",
            "OAK\n",
            "7550000\n",
            "6802500\n",
            "5102500\n",
            "16335000\n",
            "\n",
            "PHI\n",
            "16549500\n",
            "32343000\n",
            "32801000\n",
            "32937000\n",
            "\n",
            "PIT\n",
            "31289667\n",
            "13606666\n",
            "11448667\n",
            "12045166\n",
            "\n",
            "SDN\n",
            "40142700\n",
            "9360600\n",
            "7269600\n",
            "9831000\n",
            "\n",
            "SFN\n",
            "74083333\n",
            "83369833\n",
            "55667500\n",
            "61861250\n",
            "\n",
            "SEA\n",
            "43909443\n",
            "53285143\n",
            "48157443\n",
            "49257142\n",
            "\n",
            "SLN\n",
            "44078000\n",
            "48475000\n",
            "45641400\n",
            "18471200\n",
            "\n",
            "TBA\n",
            "16287367\n",
            "18059167\n",
            "9529866\n",
            "18856100\n",
            "\n",
            "TEX\n",
            "44650000\n",
            "56150000\n",
            "46833333\n",
            "30166667\n",
            "\n",
            "TOR\n",
            "34533700\n",
            "45644666\n",
            "43200000\n",
            "20420200\n",
            "\n",
            "WAS\n",
            "45700657\n",
            "56791190\n",
            "60074390\n",
            "97955562\n",
            "\n"
          ]
        }
      ]
    }
  ]
}