{
  "nbformat": 4,
  "nbformat_minor": 0,
  "metadata": {
    "colab": {
      "provenance": [],
      "authorship_tag": "ABX9TyMFIRWQ56IqZ38jBIcT98UH",
      "include_colab_link": true
    },
    "kernelspec": {
      "name": "python3",
      "display_name": "Python 3"
    },
    "language_info": {
      "name": "python"
    }
  },
  "cells": [
    {
      "cell_type": "markdown",
      "metadata": {
        "id": "view-in-github",
        "colab_type": "text"
      },
      "source": [
        "<a href=\"https://colab.research.google.com/github/kbro4/Reliever-Value/blob/main/Getting_Payrolls.ipynb\" target=\"_parent\"><img src=\"https://colab.research.google.com/assets/colab-badge.svg\" alt=\"Open In Colab\"/></a>"
      ]
    },
    {
      "cell_type": "code",
      "execution_count": null,
      "metadata": {
        "id": "Rim1S6q-bF48"
      },
      "outputs": [],
      "source": [
        "import pandas as pd"
      ]
    },
    {
      "cell_type": "code",
      "source": [
        "def convert_amount(value):\n",
        "    numeric_string = ''.join(c for c in value if c.isdigit())\n",
        "    return int(numeric_string)"
      ],
      "metadata": {
        "id": "bgte95Z6bHMB"
      },
      "execution_count": null,
      "outputs": []
    },
    {
      "cell_type": "code",
      "source": [
        "def get_payrolls(df):\n",
        "  df = df[0]\n",
        "  df = df.head(13)\n",
        "  df = df.drop(0)\n",
        "  df.drop(columns = [2, 3], axis = 1, inplace = True)\n",
        "  df = df.drop(1)\n",
        "  df[1] = df[1].apply(convert_amount)\n",
        "  df = df.sort_values(by=0)\n",
        "  df = df.drop(5)\n",
        "\n",
        "  return df"
      ],
      "metadata": {
        "id": "qgaUbtArfCCH"
      },
      "execution_count": null,
      "outputs": []
    },
    {
      "cell_type": "code",
      "source": [
        "df_list = []\n",
        "mlb_teams = [\n",
        "    'Arizona Diamondbacks', 'Atlanta Braves', 'Baltimore Orioles',\n",
        "    'Boston Red Sox', 'Chicago White Sox', 'Chicago Cubs',\n",
        "    'Cincinnati Reds', 'Cleveland Guardians', 'Colorado Rockies',\n",
        "    'Detroit Tigers', 'Houston Astros', 'Kansas City Royals',\n",
        "    'Los Angeles Angels', 'Los Angeles Dodgers', 'Miami Marlins',\n",
        "    'Milwaukee Brewers', 'Minnesota Twins', 'New York Yankees',\n",
        "    'New York Mets', 'Oakland Athletics', 'Philadelphia Phillies',\n",
        "    'Pittsburgh Pirates', 'San Diego Padres', 'San Francisco Giants',\n",
        "    'Seattle Mariners', 'St. Louis Cardinals', 'Tampa Bay Rays',\n",
        "    'Texas Rangers', 'Toronto Blue Jays', 'Washington Nationals'\n",
        "]"
      ],
      "metadata": {
        "id": "XhrDug2HbIkf"
      },
      "execution_count": null,
      "outputs": []
    },
    {
      "cell_type": "code",
      "source": [
        "for team in mlb_teams:\n",
        "    formatted_name = team.lower().replace(' ', '-')\n",
        "    url = f'https://legacy.baseballprospectus.com/compensation/cots/national-league/{formatted_name}/'\n",
        "\n",
        "    df = pd.read_html(url)\n",
        "\n",
        "    df_list.append(get_payrolls(df))"
      ],
      "metadata": {
        "id": "u2xLqrXzhPyt"
      },
      "execution_count": null,
      "outputs": []
    },
    {
      "cell_type": "code",
      "source": [
        "!pip install xlsxwriter"
      ],
      "metadata": {
        "colab": {
          "base_uri": "https://localhost:8080/"
        },
        "id": "yqutWYjPiZnU",
        "outputId": "d1e1e5e4-8311-4727-ad70-9003948f13d4"
      },
      "execution_count": null,
      "outputs": [
        {
          "output_type": "stream",
          "name": "stdout",
          "text": [
            "Collecting xlsxwriter\n",
            "  Downloading XlsxWriter-3.1.9-py3-none-any.whl (154 kB)\n",
            "\u001b[?25l     \u001b[90m━━━━━━━━━━━━━━━━━━━━━━━━━━━━━━━━━━━━━━━━\u001b[0m \u001b[32m0.0/154.8 kB\u001b[0m \u001b[31m?\u001b[0m eta \u001b[36m-:--:--\u001b[0m\r\u001b[2K     \u001b[91m━━━━━━━━━━━━━━━━━━━━━━━\u001b[0m\u001b[91m╸\u001b[0m\u001b[90m━━━━━━━━━━━━━━━━\u001b[0m \u001b[32m92.2/154.8 kB\u001b[0m \u001b[31m2.6 MB/s\u001b[0m eta \u001b[36m0:00:01\u001b[0m\r\u001b[2K     \u001b[90m━━━━━━━━━━━━━━━━━━━━━━━━━━━━━━━━━━━━━━━━\u001b[0m \u001b[32m154.8/154.8 kB\u001b[0m \u001b[31m3.2 MB/s\u001b[0m eta \u001b[36m0:00:00\u001b[0m\n",
            "\u001b[?25hInstalling collected packages: xlsxwriter\n",
            "Successfully installed xlsxwriter-3.1.9\n"
          ]
        }
      ]
    },
    {
      "cell_type": "code",
      "source": [
        "excel_file_path = 'output.xlsx'\n",
        "\n",
        "with pd.ExcelWriter(excel_file_path, engine='xlsxwriter') as writer:\n",
        "    # Write each DataFrame to the same sheet, starting from different rows\n",
        "    for i, df in enumerate(df_list, start=1):\n",
        "        df.to_excel(writer, sheet_name='Sheet1', startrow=(i-1) * (df.shape[0] + 2), index=False)\n"
      ],
      "metadata": {
        "id": "I5rzwsZTkoe2"
      },
      "execution_count": null,
      "outputs": []
    }
  ]
}