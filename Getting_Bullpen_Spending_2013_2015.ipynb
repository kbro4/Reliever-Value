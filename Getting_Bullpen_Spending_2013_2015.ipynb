{
  "nbformat": 4,
  "nbformat_minor": 0,
  "metadata": {
    "colab": {
      "provenance": [],
      "authorship_tag": "ABX9TyNEiy7+sQt5+E9VK9w1NPr6",
      "include_colab_link": true
    },
    "kernelspec": {
      "name": "python3",
      "display_name": "Python 3"
    },
    "language_info": {
      "name": "python"
    }
  },
  "cells": [
    {
      "cell_type": "markdown",
      "metadata": {
        "id": "view-in-github",
        "colab_type": "text"
      },
      "source": [
        "<a href=\"https://colab.research.google.com/github/kbro4/Reliever-Value/blob/main/Getting_Bullpen_Spending_2013_2015.ipynb\" target=\"_parent\"><img src=\"https://colab.research.google.com/assets/colab-badge.svg\" alt=\"Open In Colab\"/></a>"
      ]
    },
    {
      "cell_type": "code",
      "execution_count": 1,
      "metadata": {
        "id": "HLexdqE0p5MA"
      },
      "outputs": [],
      "source": [
        "import pandas as pd\n",
        "import time"
      ]
    },
    {
      "cell_type": "code",
      "source": [
        "import warnings\n",
        "\n",
        "# Suppress all warnings\n",
        "warnings.filterwarnings(\"ignore\")"
      ],
      "metadata": {
        "id": "JSTrTUzEqGWe"
      },
      "execution_count": 2,
      "outputs": []
    },
    {
      "cell_type": "code",
      "source": [
        "def convert_amount(value):\n",
        "    numeric_string = ''.join(c for c in value if c.isdigit())\n",
        "    return int(numeric_string)"
      ],
      "metadata": {
        "id": "4LTwqw4kqH2l"
      },
      "execution_count": 3,
      "outputs": []
    },
    {
      "cell_type": "code",
      "source": [
        "mlb_teams = [\n",
        "    'ARI', 'ATL', 'BAL', 'BOS', 'CHN', 'CHA', 'CIN', 'CLE', 'COL', 'DET',\n",
        "    'HOU', 'KCA', 'ANA', 'LAN', 'MIA', 'MIL', 'MIN', 'NYN', 'NYA', 'OAK',\n",
        "    'PHI', 'PIT', 'SDN', 'SFN', 'SEA', 'SLN', 'TBA', 'TEX', 'TOR', 'WAS'\n",
        "]"
      ],
      "metadata": {
        "id": "tW0sJSCqqKZs"
      },
      "execution_count": 5,
      "outputs": []
    },
    {
      "cell_type": "code",
      "source": [
        "# Filters dataframes for names of relief pitchers\n",
        "def get_names(df):\n",
        "  df = df[1]\n",
        "  df = df.dropna(subset=['G'])\n",
        "  df = df[~df['G'].isin(['G', '162'])]\n",
        "  df = df.loc[df['GS'].astype(float) / df['G'].astype(float) > 0.5]\n",
        "  df = df['Name']\n",
        "  df = df.str.replace('*', '')\n",
        "\n",
        "  return df"
      ],
      "metadata": {
        "id": "YC_lLxh5qMAt"
      },
      "execution_count": 6,
      "outputs": []
    },
    {
      "cell_type": "code",
      "source": [
        "def swap_names(full_names):\n",
        "    # Split the full name into individual names\n",
        "    new_names = []\n",
        "    for name in full_names:\n",
        "      names = name.split()\n",
        "\n",
        "    # Check if there are at least two names\n",
        "      if len(names) >= 2:\n",
        "        # Swap the first and last names\n",
        "        swapped_name = f\"{names[-1]} {names[0]}\"\n",
        "        new_names.append(swapped_name)\n",
        "      else:\n",
        "        # Return the original name if there are not enough names\n",
        "        return new_names\n",
        "    return new_names"
      ],
      "metadata": {
        "id": "Z0osVFW7qOAc"
      },
      "execution_count": 7,
      "outputs": []
    },
    {
      "cell_type": "code",
      "source": [
        "# Gets spending on relief pitchers\n",
        "def get_relief_spending(df, names):\n",
        "  df = df[1]\n",
        "  df = df.drop('Current Status', axis = 1).dropna()\n",
        "  names = names.str.normalize('NFKD').str.encode('ascii', errors='ignore').str.decode('utf-8')\n",
        "  names = swap_names(names)\n",
        "  df = df[~df['Player Sort'].isin(names)]\n",
        "  df['Salary'] = df['Salary'].apply(convert_amount)\n",
        "  return df['Salary'].sum()"
      ],
      "metadata": {
        "id": "JKY0MU1GqQK1"
      },
      "execution_count": 8,
      "outputs": []
    },
    {
      "cell_type": "code",
      "source": [
        "# Scrapes data for each team's spending\n",
        "for team in mlb_teams:\n",
        "  print(team)\n",
        "  for year in range(2013, 2016):\n",
        "    url = f'https://legacy.baseballprospectus.com/compensation/index.php?team={team}&pos=RP&cyear={year}'\n",
        "\n",
        "    df = pd.read_html(url)\n",
        "\n",
        "    if team == 'KCA':\n",
        "      url2 = f'https://www.baseball-reference.com/teams/KC/{year}.shtml'\n",
        "      df2 = pd.read_html(url2)\n",
        "    elif team == 'ANA':\n",
        "      url2 = f'https://www.baseball-reference.com/teams/LAA/{year}.shtml'\n",
        "      df2 = pd.read_html(url2)\n",
        "    elif team == 'WAS':\n",
        "      url2 = f'https://www.baseball-reference.com/teams/WSN/{year}.shtml'\n",
        "      df2 = pd.read_html(url2)\n",
        "    else :\n",
        "      url2 = f'https://www.baseball-reference.com/teams/{team}/{year}.shtml'\n",
        "      df2 = pd.read_html(url2)\n",
        "      time.sleep(5)\n",
        "\n",
        "    # Gets total relief pitcher spending by year\n",
        "    names = get_names(df2)\n",
        "    print(get_relief_spending(df, names))"
      ],
      "metadata": {
        "colab": {
          "base_uri": "https://localhost:8080/"
        },
        "id": "ipvEA_n5qTfs",
        "outputId": "c6a8ff1a-f0a4-4968-9d1a-902ec2cfbf55"
      },
      "execution_count": 9,
      "outputs": [
        {
          "output_type": "stream",
          "name": "stdout",
          "text": [
            "ARI\n",
            "23309500\n",
            "18458500\n",
            "19797000\n",
            "ATL\n",
            "7738750\n",
            "12807500\n",
            "13810000\n",
            "BAL\n",
            "15422500\n",
            "13785820\n",
            "17523000\n",
            "BOS\n",
            "21997000\n",
            "20905125\n",
            "30700000\n",
            "CHN\n",
            "23724500\n",
            "19394500\n",
            "29550000\n",
            "CHA\n",
            "13825000\n",
            "12812000\n",
            "21633700\n",
            "CIN\n",
            "17050833\n",
            "26981272\n",
            "17470500\n",
            "CLE\n",
            "16739200\n",
            "11009600\n",
            "12915100\n",
            "COL\n",
            "24760500\n",
            "28479000\n",
            "26172000\n",
            "DET\n",
            "12844500\n",
            "15754500\n",
            "22257500\n",
            "HOU\n",
            "5652300\n",
            "8615100\n",
            "19455700\n",
            "KCA\n",
            "11922175\n",
            "13876500\n",
            "24800000\n",
            "ANA\n",
            "11406250\n",
            "16788500\n",
            "17618500\n",
            "LAN\n",
            "18395333\n",
            "39827433\n",
            "19767500\n",
            "MIA\n",
            "5745400\n",
            "9286900\n",
            "15089000\n",
            "MIL\n",
            "13871000\n",
            "12901000\n",
            "18617000\n",
            "MIN\n",
            "8845000\n",
            "12272500\n",
            "12702500\n",
            "NYN\n",
            "15770250\n",
            "13871475\n",
            "19117450\n",
            "NYA\n",
            "20550875\n",
            "12014000\n",
            "19412400\n",
            "OAK\n",
            "15167500\n",
            "20338400\n",
            "19117500\n",
            "PHI\n",
            "21742000\n",
            "29242467\n",
            "17116500\n",
            "PIT\n",
            "5526500\n",
            "9410000\n",
            "15808000\n",
            "SDN\n",
            "13551200\n",
            "17136600\n",
            "22493800\n",
            "SFN\n",
            "21294500\n",
            "23505000\n",
            "24145000\n",
            "SEA\n",
            "5549700\n",
            "11171100\n",
            "12283800\n",
            "SLN\n",
            "8767000\n",
            "13540000\n",
            "12758000\n",
            "TBA\n",
            "8657500\n",
            "17711750\n",
            "17950000\n",
            "TEX\n",
            "16626800\n",
            "17105006\n",
            "12368900\n",
            "TOR\n",
            "22407500\n",
            "22441600\n",
            "6077000\n",
            "WAS\n",
            "25080500\n",
            "29875000\n",
            "17023100\n"
          ]
        }
      ]
    }
  ]
}